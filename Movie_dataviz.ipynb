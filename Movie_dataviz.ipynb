{
 "cells": [
  {
   "cell_type": "code",
   "execution_count": 103,
   "metadata": {},
   "outputs": [],
   "source": [
    "# Import Dependencies\n",
    "import pandas as pd\n",
    "import matplotlib.pyplot as plt\n",
    "import numpy as np\n",
    "import datetime"
   ]
  },
  {
   "cell_type": "code",
   "execution_count": 146,
   "metadata": {},
   "outputs": [],
   "source": [
    "# input file names\n",
    "# movies_csv = \"movies_final.csv\"\n",
    "movies_csv = \"movies_with_director.csv\"\n",
    "movie_final_csv = \"movies_final.csv\""
   ]
  },
  {
   "cell_type": "code",
   "execution_count": 153,
   "metadata": {},
   "outputs": [
    {
     "data": {
      "text/html": [
       "<div>\n",
       "<style scoped>\n",
       "    .dataframe tbody tr th:only-of-type {\n",
       "        vertical-align: middle;\n",
       "    }\n",
       "\n",
       "    .dataframe tbody tr th {\n",
       "        vertical-align: top;\n",
       "    }\n",
       "\n",
       "    .dataframe thead th {\n",
       "        text-align: right;\n",
       "    }\n",
       "</style>\n",
       "<table border=\"1\" class=\"dataframe\">\n",
       "  <thead>\n",
       "    <tr style=\"text-align: right;\">\n",
       "      <th></th>\n",
       "      <th>genres</th>\n",
       "      <th>budget</th>\n",
       "      <th>id</th>\n",
       "      <th>title</th>\n",
       "      <th>popularity</th>\n",
       "      <th>production_companies</th>\n",
       "      <th>release_date</th>\n",
       "      <th>revenue</th>\n",
       "      <th>Director</th>\n",
       "      <th>ROI</th>\n",
       "    </tr>\n",
       "  </thead>\n",
       "  <tbody>\n",
       "    <tr>\n",
       "      <th>0</th>\n",
       "      <td>[{'id': 16, 'name': 'Animation'}, {'id': 35, '...</td>\n",
       "      <td>30000000</td>\n",
       "      <td>862</td>\n",
       "      <td>Toy Story</td>\n",
       "      <td>21.946943</td>\n",
       "      <td>[{'name': 'Pixar Animation Studios', 'id': 3}]</td>\n",
       "      <td>10/30/1995</td>\n",
       "      <td>373554033.0</td>\n",
       "      <td>John Lasseter</td>\n",
       "      <td>1145.180110</td>\n",
       "    </tr>\n",
       "    <tr>\n",
       "      <th>1</th>\n",
       "      <td>[{'id': 12, 'name': 'Adventure'}, {'id': 14, '...</td>\n",
       "      <td>65000000</td>\n",
       "      <td>8844</td>\n",
       "      <td>Jumanji</td>\n",
       "      <td>17.015539</td>\n",
       "      <td>[{'name': 'TriStar Pictures', 'id': 559}, {'na...</td>\n",
       "      <td>12/15/1995</td>\n",
       "      <td>262797249.0</td>\n",
       "      <td>Joe Johnston</td>\n",
       "      <td>304.303460</td>\n",
       "    </tr>\n",
       "    <tr>\n",
       "      <th>2</th>\n",
       "      <td>[{'id': 35, 'name': 'Comedy'}, {'id': 18, 'nam...</td>\n",
       "      <td>16000000</td>\n",
       "      <td>31357</td>\n",
       "      <td>Waiting to Exhale</td>\n",
       "      <td>3.859495</td>\n",
       "      <td>[{'name': 'Twentieth Century Fox Film Corporat...</td>\n",
       "      <td>12/22/1995</td>\n",
       "      <td>81452156.0</td>\n",
       "      <td>Forest Whitaker</td>\n",
       "      <td>409.075975</td>\n",
       "    </tr>\n",
       "    <tr>\n",
       "      <th>3</th>\n",
       "      <td>[{'id': 28, 'name': 'Action'}, {'id': 80, 'nam...</td>\n",
       "      <td>60000000</td>\n",
       "      <td>949</td>\n",
       "      <td>Heat</td>\n",
       "      <td>17.924927</td>\n",
       "      <td>[{'name': 'Regency Enterprises', 'id': 508}, {...</td>\n",
       "      <td>12/15/1995</td>\n",
       "      <td>187436818.0</td>\n",
       "      <td>Michael Mann</td>\n",
       "      <td>212.394697</td>\n",
       "    </tr>\n",
       "    <tr>\n",
       "      <th>4</th>\n",
       "      <td>[{'id': 28, 'name': 'Action'}, {'id': 12, 'nam...</td>\n",
       "      <td>35000000</td>\n",
       "      <td>9091</td>\n",
       "      <td>Sudden Death</td>\n",
       "      <td>5.231580</td>\n",
       "      <td>[{'name': 'Universal Pictures', 'id': 33}, {'n...</td>\n",
       "      <td>12/22/1995</td>\n",
       "      <td>64350171.0</td>\n",
       "      <td>Peter Hyams</td>\n",
       "      <td>83.857631</td>\n",
       "    </tr>\n",
       "  </tbody>\n",
       "</table>\n",
       "</div>"
      ],
      "text/plain": [
       "                                              genres    budget     id  \\\n",
       "0  [{'id': 16, 'name': 'Animation'}, {'id': 35, '...  30000000    862   \n",
       "1  [{'id': 12, 'name': 'Adventure'}, {'id': 14, '...  65000000   8844   \n",
       "2  [{'id': 35, 'name': 'Comedy'}, {'id': 18, 'nam...  16000000  31357   \n",
       "3  [{'id': 28, 'name': 'Action'}, {'id': 80, 'nam...  60000000    949   \n",
       "4  [{'id': 28, 'name': 'Action'}, {'id': 12, 'nam...  35000000   9091   \n",
       "\n",
       "               title  popularity  \\\n",
       "0          Toy Story   21.946943   \n",
       "1            Jumanji   17.015539   \n",
       "2  Waiting to Exhale    3.859495   \n",
       "3               Heat   17.924927   \n",
       "4       Sudden Death    5.231580   \n",
       "\n",
       "                                production_companies release_date  \\\n",
       "0     [{'name': 'Pixar Animation Studios', 'id': 3}]   10/30/1995   \n",
       "1  [{'name': 'TriStar Pictures', 'id': 559}, {'na...   12/15/1995   \n",
       "2  [{'name': 'Twentieth Century Fox Film Corporat...   12/22/1995   \n",
       "3  [{'name': 'Regency Enterprises', 'id': 508}, {...   12/15/1995   \n",
       "4  [{'name': 'Universal Pictures', 'id': 33}, {'n...   12/22/1995   \n",
       "\n",
       "       revenue         Director          ROI  \n",
       "0  373554033.0    John Lasseter  1145.180110  \n",
       "1  262797249.0     Joe Johnston   304.303460  \n",
       "2   81452156.0  Forest Whitaker   409.075975  \n",
       "3  187436818.0     Michael Mann   212.394697  \n",
       "4   64350171.0      Peter Hyams    83.857631  "
      ]
     },
     "execution_count": 153,
     "metadata": {},
     "output_type": "execute_result"
    }
   ],
   "source": [
    "movies_df = pd.read_csv(movies_csv)\n",
    "movies_final_df = pd.read_csv(movie_final_csv)\n",
    "movies_df.head()"
   ]
  },
  {
   "cell_type": "code",
   "execution_count": 154,
   "metadata": {},
   "outputs": [
    {
     "data": {
      "text/html": [
       "<div>\n",
       "<style scoped>\n",
       "    .dataframe tbody tr th:only-of-type {\n",
       "        vertical-align: middle;\n",
       "    }\n",
       "\n",
       "    .dataframe tbody tr th {\n",
       "        vertical-align: top;\n",
       "    }\n",
       "\n",
       "    .dataframe thead th {\n",
       "        text-align: right;\n",
       "    }\n",
       "</style>\n",
       "<table border=\"1\" class=\"dataframe\">\n",
       "  <thead>\n",
       "    <tr style=\"text-align: right;\">\n",
       "      <th></th>\n",
       "      <th>genres</th>\n",
       "      <th>budget</th>\n",
       "      <th>id</th>\n",
       "      <th>title</th>\n",
       "      <th>popularity</th>\n",
       "      <th>production_companies</th>\n",
       "      <th>release_date</th>\n",
       "      <th>revenue</th>\n",
       "      <th>Director</th>\n",
       "      <th>ROI</th>\n",
       "      <th>release_year</th>\n",
       "    </tr>\n",
       "  </thead>\n",
       "  <tbody>\n",
       "    <tr>\n",
       "      <th>0</th>\n",
       "      <td>[{'id': 16, 'name': 'Animation'}, {'id': 35, '...</td>\n",
       "      <td>30000000</td>\n",
       "      <td>862</td>\n",
       "      <td>Toy Story</td>\n",
       "      <td>21.946943</td>\n",
       "      <td>[{'name': 'Pixar Animation Studios', 'id': 3}]</td>\n",
       "      <td>1995-10-30</td>\n",
       "      <td>373554033.0</td>\n",
       "      <td>John Lasseter</td>\n",
       "      <td>1145.180110</td>\n",
       "      <td>1995</td>\n",
       "    </tr>\n",
       "    <tr>\n",
       "      <th>1</th>\n",
       "      <td>[{'id': 12, 'name': 'Adventure'}, {'id': 14, '...</td>\n",
       "      <td>65000000</td>\n",
       "      <td>8844</td>\n",
       "      <td>Jumanji</td>\n",
       "      <td>17.015539</td>\n",
       "      <td>[{'name': 'TriStar Pictures', 'id': 559}, {'na...</td>\n",
       "      <td>1995-12-15</td>\n",
       "      <td>262797249.0</td>\n",
       "      <td>Joe Johnston</td>\n",
       "      <td>304.303460</td>\n",
       "      <td>1995</td>\n",
       "    </tr>\n",
       "    <tr>\n",
       "      <th>2</th>\n",
       "      <td>[{'id': 35, 'name': 'Comedy'}, {'id': 18, 'nam...</td>\n",
       "      <td>16000000</td>\n",
       "      <td>31357</td>\n",
       "      <td>Waiting to Exhale</td>\n",
       "      <td>3.859495</td>\n",
       "      <td>[{'name': 'Twentieth Century Fox Film Corporat...</td>\n",
       "      <td>1995-12-22</td>\n",
       "      <td>81452156.0</td>\n",
       "      <td>Forest Whitaker</td>\n",
       "      <td>409.075975</td>\n",
       "      <td>1995</td>\n",
       "    </tr>\n",
       "    <tr>\n",
       "      <th>3</th>\n",
       "      <td>[{'id': 28, 'name': 'Action'}, {'id': 80, 'nam...</td>\n",
       "      <td>60000000</td>\n",
       "      <td>949</td>\n",
       "      <td>Heat</td>\n",
       "      <td>17.924927</td>\n",
       "      <td>[{'name': 'Regency Enterprises', 'id': 508}, {...</td>\n",
       "      <td>1995-12-15</td>\n",
       "      <td>187436818.0</td>\n",
       "      <td>Michael Mann</td>\n",
       "      <td>212.394697</td>\n",
       "      <td>1995</td>\n",
       "    </tr>\n",
       "    <tr>\n",
       "      <th>4</th>\n",
       "      <td>[{'id': 28, 'name': 'Action'}, {'id': 12, 'nam...</td>\n",
       "      <td>35000000</td>\n",
       "      <td>9091</td>\n",
       "      <td>Sudden Death</td>\n",
       "      <td>5.231580</td>\n",
       "      <td>[{'name': 'Universal Pictures', 'id': 33}, {'n...</td>\n",
       "      <td>1995-12-22</td>\n",
       "      <td>64350171.0</td>\n",
       "      <td>Peter Hyams</td>\n",
       "      <td>83.857631</td>\n",
       "      <td>1995</td>\n",
       "    </tr>\n",
       "  </tbody>\n",
       "</table>\n",
       "</div>"
      ],
      "text/plain": [
       "                                              genres    budget     id  \\\n",
       "0  [{'id': 16, 'name': 'Animation'}, {'id': 35, '...  30000000    862   \n",
       "1  [{'id': 12, 'name': 'Adventure'}, {'id': 14, '...  65000000   8844   \n",
       "2  [{'id': 35, 'name': 'Comedy'}, {'id': 18, 'nam...  16000000  31357   \n",
       "3  [{'id': 28, 'name': 'Action'}, {'id': 80, 'nam...  60000000    949   \n",
       "4  [{'id': 28, 'name': 'Action'}, {'id': 12, 'nam...  35000000   9091   \n",
       "\n",
       "               title  popularity  \\\n",
       "0          Toy Story   21.946943   \n",
       "1            Jumanji   17.015539   \n",
       "2  Waiting to Exhale    3.859495   \n",
       "3               Heat   17.924927   \n",
       "4       Sudden Death    5.231580   \n",
       "\n",
       "                                production_companies release_date  \\\n",
       "0     [{'name': 'Pixar Animation Studios', 'id': 3}]   1995-10-30   \n",
       "1  [{'name': 'TriStar Pictures', 'id': 559}, {'na...   1995-12-15   \n",
       "2  [{'name': 'Twentieth Century Fox Film Corporat...   1995-12-22   \n",
       "3  [{'name': 'Regency Enterprises', 'id': 508}, {...   1995-12-15   \n",
       "4  [{'name': 'Universal Pictures', 'id': 33}, {'n...   1995-12-22   \n",
       "\n",
       "       revenue         Director          ROI  release_year  \n",
       "0  373554033.0    John Lasseter  1145.180110          1995  \n",
       "1  262797249.0     Joe Johnston   304.303460          1995  \n",
       "2   81452156.0  Forest Whitaker   409.075975          1995  \n",
       "3  187436818.0     Michael Mann   212.394697          1995  \n",
       "4   64350171.0      Peter Hyams    83.857631          1995  "
      ]
     },
     "execution_count": 154,
     "metadata": {},
     "output_type": "execute_result"
    }
   ],
   "source": [
    "movies_df.release_date = pd.to_datetime(movies_df.release_date)\n",
    "movies_df['release_year'] = movies_df.release_date.dt.year\n",
    "movies_df.head()"
   ]
  },
  {
   "cell_type": "code",
   "execution_count": 183,
   "metadata": {},
   "outputs": [
    {
     "name": "stdout",
     "output_type": "stream",
     "text": [
      "Enter director nameJames Cameron\n"
     ]
    }
   ],
   "source": [
    "director_name = input('Enter director name')"
   ]
  },
  {
   "cell_type": "code",
   "execution_count": 196,
   "metadata": {},
   "outputs": [
    {
     "data": {
      "text/plain": [
       "genres\n",
       "Action          628.306811\n",
       "Adventure       552.464073\n",
       "Documentary      31.083623\n",
       "Drama           822.517094\n",
       "Fantasy        1076.356577\n",
       "Name: ROI, dtype: float64"
      ]
     },
     "execution_count": 196,
     "metadata": {},
     "output_type": "execute_result"
    }
   ],
   "source": [
    "movie_by_director = movies_df[(movies_df['Director'] == director_name)]\n",
    "\n",
    "movie_by_director.head()\n",
    "\n",
    "movie_by_director = movie_by_director.sort_values(by='release_year')\n",
    "filterbydirector = movies_final_df[(movies_final_df['Director'] == director_name)]\n",
    "\n",
    "genresdirector = filterbydirector.groupby([\"genres\"]).mean()[\"ROI\"]\n",
    "# genresdirector = genresdirector.to_frame()\n",
    "# genresdirector = genresdirector.reset_index()\n",
    "# genresdirector = genresdirector.sort_values(by='ROI')\n",
    "genresdirector.head()\n",
    "# movie_by_director.count()\n",
    "# movie_by_director.head()"
   ]
  },
  {
   "cell_type": "code",
   "execution_count": 186,
   "metadata": {},
   "outputs": [
    {
     "data": {
      "image/png": "[encoded data removed]",
      "text/plain": [
       "<Figure size 576x432 with 1 Axes>"
      ]
     },
     "metadata": {
      "needs_background": "light"
     },
     "output_type": "display_data"
    },
    {
     "data": {
      "text/plain": [
       "<Figure size 432x288 with 0 Axes>"
      ]
     },
     "metadata": {},
     "output_type": "display_data"
    }
   ],
   "source": [
    "fig=plt.figure(figsize=(8,6))\n",
    "ax = fig.add_subplot(111)\n",
    "\n",
    "genresdirector.plot.bar(x = 'genres', y = ['ROI'], rot = 40, ax = ax)\n",
    "\n",
    "for p in ax.patches:\n",
    "  ax.annotate(np.round(p.get_height(),decimals=2), (p.get_x()+p.get_width()/2., p.get_height()))\n",
    "\n",
    "plt.xlabel('Genres')\n",
    "plt.ylabel('ROI')\n",
    "plt.title(f'Genres & ROI for {director_name}')\n",
    "plt.show()\n",
    "plt.savefig('MovieByJamesCameron.png')"
   ]
  },
  {
   "cell_type": "code",
   "execution_count": 195,
   "metadata": {},
   "outputs": [
    {
     "data": {
      "text/plain": [
       "[<matplotlib.lines.Line2D at 0x20c9dc86eb8>]"
      ]
     },
     "execution_count": 195,
     "metadata": {},
     "output_type": "execute_result"
    },
    {
     "data": {
      "image/png": "[encoded data removed]",
      "text/plain": [
       "<Figure size 432x288 with 1 Axes>"
      ]
     },
     "metadata": {
      "needs_background": "light"
     },
     "output_type": "display_data"
    }
   ],
   "source": [
    "plt.title(\"ROI Trend\")\n",
    "plt.xlabel(\"Year\")\n",
    "plt.ylabel(\"ROI\")\n",
    "plt.plot(movie_by_director.release_year, movie_by_director.ROI)\n"
   ]
  },
  {
   "cell_type": "code",
   "execution_count": 194,
   "metadata": {},
   "outputs": [
    {
     "data": {
      "text/plain": [
       "[<matplotlib.lines.Line2D at 0x20c9de85320>]"
      ]
     },
     "execution_count": 194,
     "metadata": {},
     "output_type": "execute_result"
    },
    {
     "data": {
      "image/png": "[encoded data removed]",
      "text/plain": [
       "<Figure size 432x288 with 1 Axes>"
      ]
     },
     "metadata": {
      "needs_background": "light"
     },
     "output_type": "display_data"
    }
   ],
   "source": [
    "plt.title(\"Popularity Trend\")\n",
    "plt.xlabel(\"Year\")\n",
    "plt.ylabel(\"Popularity\")\n",
    "plt.plot(movie_by_director.release_year, movie_by_director.popularity)"
   ]
  },
  {
   "cell_type": "code",
   "execution_count": 193,
   "metadata": {
    "scrolled": true
   },
   "outputs": [
    {
     "data": {
      "image/png": "[encoded data removed]",
      "text/plain": [
       "<Figure size 432x288 with 1 Axes>"
      ]
     },
     "metadata": {
      "needs_background": "light"
     },
     "output_type": "display_data"
    }
   ],
   "source": [
    "plt.title(\"Budget and Revenue Trend\")\n",
    "plt.xlabel(\"Year\")\n",
    "plt.ylabel(\"Budget / Revenue\")\n",
    "plt.subplot\n",
    "plt.plot(movie_by_director.release_year, movie_by_director.revenue / 1000000)\n",
    "plt.plot(movie_by_director.release_year, movie_by_director.budget / 1000000)\n",
    "plt.show()"
   ]
  },
  {
   "cell_type": "code",
   "execution_count": null,
   "metadata": {},
   "outputs": [],
   "source": []
  }
 ],
 "metadata": {
  "kernelspec": {
   "display_name": "Python 3",
   "language": "python",
   "name": "python3"
  },
  "language_info": {
   "codemirror_mode": {
    "name": "ipython",
    "version": 3
   },
   "file_extension": ".py",
   "mimetype": "text/x-python",
   "name": "python",
   "nbconvert_exporter": "python",
   "pygments_lexer": "ipython3",
   "version": "3.7.0"
  }
 },
 "nbformat": 4,
 "nbformat_minor": 2
}
