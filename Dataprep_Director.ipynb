{
 "cells": [
  {
   "cell_type": "code",
   "execution_count": 19,
   "metadata": {},
   "outputs": [],
   "source": [
    "# Import Dependencies\n",
    "import pandas as pd"
   ]
  },
  {
   "cell_type": "code",
   "execution_count": 20,
   "metadata": {},
   "outputs": [],
   "source": [
    "# input file names\n",
    "movies_csv = \"movies_metadata.csv\"\n",
    "credits_csv = \"credits.csv\""
   ]
  },
  {
   "cell_type": "code",
   "execution_count": 21,
   "metadata": {
    "scrolled": true
   },
   "outputs": [
    {
     "data": {
      "text/plain": [
       "cast    45476\n",
       "crew    45476\n",
       "id      45476\n",
       "dtype: int64"
      ]
     },
     "execution_count": 21,
     "metadata": {},
     "output_type": "execute_result"
    }
   ],
   "source": [
    "# start with credits file and extract director name\n",
    "credits_df = pd.read_csv(credits_csv,low_memory=False)\n",
    "credits_df.count()"
   ]
  },
  {
   "cell_type": "code",
   "execution_count": 22,
   "metadata": {},
   "outputs": [
    {
     "data": {
      "text/plain": [
       "id          44589\n",
       "Director    44589\n",
       "dtype: int64"
      ]
     },
     "execution_count": 22,
     "metadata": {},
     "output_type": "execute_result"
    }
   ],
   "source": [
    "movie_id = []\n",
    "director = []\n",
    "\n",
    "# loop thru each row \n",
    "for idx, rows in credits_df.iterrows():\n",
    "\n",
    "# crew is stored as string, evaluate it to a list of dictionaries    \n",
    "    crew_dict = eval(rows['crew'])\n",
    "# look thru each dictionary and extract director name based on job title\n",
    "    for i in range(len(crew_dict)):\n",
    "        try:\n",
    "            if crew_dict[i]['job'].lower() == 'director':\n",
    "                director.append(crew_dict[i]['name'])\n",
    "                movie_id.append(rows.id)\n",
    "                break\n",
    "        except:\n",
    "            director.append(\"n/a\")\n",
    "            movie_id.append(rows.id)\n",
    "            break \n",
    "\n",
    "# create Director dataframe to merge with movies data\n",
    "movie_director_df = pd.DataFrame({\"id\": movie_id, \"Director\": director})\n",
    "movie_director_df.count()\n"
   ]
  },
  {
   "cell_type": "code",
   "execution_count": 23,
   "metadata": {
    "scrolled": true
   },
   "outputs": [],
   "source": [
    "# read movies file\n",
    "movies_df = pd.read_csv(movies_csv,low_memory=False)\n",
    "movies_dataprep = movies_df[['genres', 'budget', 'id', 'title', 'popularity', \n",
    "                             'release_date', 'revenue']].copy()\n",
    "# remove rows with junk movie ids\n",
    "movies_dataprep = movies_dataprep[movies_dataprep.id != '8/20/1997']\n",
    "movies_dataprep = movies_dataprep[movies_dataprep.id != '9/29/2012']\n",
    "movies_dataprep = movies_dataprep[movies_dataprep.id != '1/1/2014']\n",
    "\n",
    "# typecast to int for merging\n",
    "movies_dataprep.id = movies_dataprep.id.astype('int')\n",
    "movie_director_df.id = movie_director_df.id.astype('int')"
   ]
  },
  {
   "cell_type": "code",
   "execution_count": 24,
   "metadata": {},
   "outputs": [
    {
     "data": {
      "text/plain": [
       "genres          45463\n",
       "budget          45463\n",
       "id              45463\n",
       "title           45460\n",
       "popularity      45460\n",
       "release_date    45376\n",
       "revenue         45460\n",
       "dtype: int64"
      ]
     },
     "execution_count": 24,
     "metadata": {},
     "output_type": "execute_result"
    }
   ],
   "source": [
    "movies_dataprep.count()"
   ]
  },
  {
   "cell_type": "code",
   "execution_count": 25,
   "metadata": {},
   "outputs": [
    {
     "data": {
      "text/html": [
       "<div>\n",
       "<style scoped>\n",
       "    .dataframe tbody tr th:only-of-type {\n",
       "        vertical-align: middle;\n",
       "    }\n",
       "\n",
       "    .dataframe tbody tr th {\n",
       "        vertical-align: top;\n",
       "    }\n",
       "\n",
       "    .dataframe thead th {\n",
       "        text-align: right;\n",
       "    }\n",
       "</style>\n",
       "<table border=\"1\" class=\"dataframe\">\n",
       "  <thead>\n",
       "    <tr style=\"text-align: right;\">\n",
       "      <th></th>\n",
       "      <th>genres</th>\n",
       "      <th>budget</th>\n",
       "      <th>id</th>\n",
       "      <th>title</th>\n",
       "      <th>popularity</th>\n",
       "      <th>release_date</th>\n",
       "      <th>revenue</th>\n",
       "      <th>Director</th>\n",
       "    </tr>\n",
       "  </thead>\n",
       "  <tbody>\n",
       "    <tr>\n",
       "      <th>0</th>\n",
       "      <td>[{'id': 16, 'name': 'Animation'}, {'id': 35, '...</td>\n",
       "      <td>30000000</td>\n",
       "      <td>862</td>\n",
       "      <td>Toy Story</td>\n",
       "      <td>21.946943</td>\n",
       "      <td>10/30/1995</td>\n",
       "      <td>373554033.0</td>\n",
       "      <td>John Lasseter</td>\n",
       "    </tr>\n",
       "    <tr>\n",
       "      <th>1</th>\n",
       "      <td>[{'id': 12, 'name': 'Adventure'}, {'id': 14, '...</td>\n",
       "      <td>65000000</td>\n",
       "      <td>8844</td>\n",
       "      <td>Jumanji</td>\n",
       "      <td>17.015539</td>\n",
       "      <td>12/15/1995</td>\n",
       "      <td>262797249.0</td>\n",
       "      <td>Joe Johnston</td>\n",
       "    </tr>\n",
       "    <tr>\n",
       "      <th>2</th>\n",
       "      <td>[{'id': 10749, 'name': 'Romance'}, {'id': 35, ...</td>\n",
       "      <td>0</td>\n",
       "      <td>15602</td>\n",
       "      <td>Grumpier Old Men</td>\n",
       "      <td>11.7129</td>\n",
       "      <td>12/22/1995</td>\n",
       "      <td>0.0</td>\n",
       "      <td>Howard Deutch</td>\n",
       "    </tr>\n",
       "    <tr>\n",
       "      <th>3</th>\n",
       "      <td>[{'id': 35, 'name': 'Comedy'}, {'id': 18, 'nam...</td>\n",
       "      <td>16000000</td>\n",
       "      <td>31357</td>\n",
       "      <td>Waiting to Exhale</td>\n",
       "      <td>3.859495</td>\n",
       "      <td>12/22/1995</td>\n",
       "      <td>81452156.0</td>\n",
       "      <td>Forest Whitaker</td>\n",
       "    </tr>\n",
       "    <tr>\n",
       "      <th>4</th>\n",
       "      <td>[{'id': 35, 'name': 'Comedy'}]</td>\n",
       "      <td>0</td>\n",
       "      <td>11862</td>\n",
       "      <td>Father of the Bride Part II</td>\n",
       "      <td>8.387519</td>\n",
       "      <td>2/10/1995</td>\n",
       "      <td>76578911.0</td>\n",
       "      <td>Charles Shyer</td>\n",
       "    </tr>\n",
       "  </tbody>\n",
       "</table>\n",
       "</div>"
      ],
      "text/plain": [
       "                                              genres    budget     id  \\\n",
       "0  [{'id': 16, 'name': 'Animation'}, {'id': 35, '...  30000000    862   \n",
       "1  [{'id': 12, 'name': 'Adventure'}, {'id': 14, '...  65000000   8844   \n",
       "2  [{'id': 10749, 'name': 'Romance'}, {'id': 35, ...         0  15602   \n",
       "3  [{'id': 35, 'name': 'Comedy'}, {'id': 18, 'nam...  16000000  31357   \n",
       "4                     [{'id': 35, 'name': 'Comedy'}]         0  11862   \n",
       "\n",
       "                         title popularity release_date      revenue  \\\n",
       "0                    Toy Story  21.946943   10/30/1995  373554033.0   \n",
       "1                      Jumanji  17.015539   12/15/1995  262797249.0   \n",
       "2             Grumpier Old Men    11.7129   12/22/1995          0.0   \n",
       "3            Waiting to Exhale   3.859495   12/22/1995   81452156.0   \n",
       "4  Father of the Bride Part II   8.387519    2/10/1995   76578911.0   \n",
       "\n",
       "          Director  \n",
       "0    John Lasseter  \n",
       "1     Joe Johnston  \n",
       "2    Howard Deutch  \n",
       "3  Forest Whitaker  \n",
       "4    Charles Shyer  "
      ]
     },
     "execution_count": 25,
     "metadata": {},
     "output_type": "execute_result"
    }
   ],
   "source": [
    "# merge movies df to director df on movie id\n",
    "movies_with_director = pd.merge(movies_dataprep, movie_director_df, on = \"id\", how=\"inner\")\n",
    "movies_with_director.head()"
   ]
  },
  {
   "cell_type": "code",
   "execution_count": 26,
   "metadata": {},
   "outputs": [
    {
     "data": {
      "text/plain": [
       "genres          44651\n",
       "budget          44651\n",
       "id              44651\n",
       "title           44648\n",
       "popularity      44648\n",
       "release_date    44616\n",
       "revenue         44648\n",
       "Director        44651\n",
       "dtype: int64"
      ]
     },
     "execution_count": 26,
     "metadata": {},
     "output_type": "execute_result"
    }
   ],
   "source": [
    "movies_with_director.count()"
   ]
  },
  {
   "cell_type": "code",
   "execution_count": 27,
   "metadata": {},
   "outputs": [],
   "source": [
    "# convert to numeric for calculation\n",
    "movies_with_director.budget = pd.to_numeric(movies_with_director.budget, errors='coerce')\n",
    "movies_with_director.revenue = pd.to_numeric(movies_with_director.revenue, errors='coerce')"
   ]
  },
  {
   "cell_type": "code",
   "execution_count": 12,
   "metadata": {},
   "outputs": [],
   "source": [
    "#filter for budget >= 5000 and revenue >= 5000\n",
    "movies_with_director = movies_with_director[(movies_with_director.budget >= 5000)]\n",
    "movies_with_director = movies_with_director[(movies_with_director.revenue >= 5000)]"
   ]
  },
  {
   "cell_type": "code",
   "execution_count": 28,
   "metadata": {},
   "outputs": [
    {
     "data": {
      "text/plain": [
       "genres          44651\n",
       "budget          44651\n",
       "id              44651\n",
       "title           44648\n",
       "popularity      44648\n",
       "release_date    44616\n",
       "revenue         44648\n",
       "Director        44651\n",
       "dtype: int64"
      ]
     },
     "execution_count": 28,
     "metadata": {},
     "output_type": "execute_result"
    }
   ],
   "source": [
    "movies_with_director.count()"
   ]
  },
  {
   "cell_type": "code",
   "execution_count": 29,
   "metadata": {},
   "outputs": [
    {
     "data": {
      "text/html": [
       "<div>\n",
       "<style scoped>\n",
       "    .dataframe tbody tr th:only-of-type {\n",
       "        vertical-align: middle;\n",
       "    }\n",
       "\n",
       "    .dataframe tbody tr th {\n",
       "        vertical-align: top;\n",
       "    }\n",
       "\n",
       "    .dataframe thead th {\n",
       "        text-align: right;\n",
       "    }\n",
       "</style>\n",
       "<table border=\"1\" class=\"dataframe\">\n",
       "  <thead>\n",
       "    <tr style=\"text-align: right;\">\n",
       "      <th></th>\n",
       "      <th>genres</th>\n",
       "      <th>budget</th>\n",
       "      <th>id</th>\n",
       "      <th>title</th>\n",
       "      <th>popularity</th>\n",
       "      <th>release_date</th>\n",
       "      <th>revenue</th>\n",
       "      <th>Director</th>\n",
       "      <th>ROI</th>\n",
       "    </tr>\n",
       "  </thead>\n",
       "  <tbody>\n",
       "    <tr>\n",
       "      <th>0</th>\n",
       "      <td>[{'id': 16, 'name': 'Animation'}, {'id': 35, '...</td>\n",
       "      <td>30000000</td>\n",
       "      <td>862</td>\n",
       "      <td>Toy Story</td>\n",
       "      <td>21.946943</td>\n",
       "      <td>10/30/1995</td>\n",
       "      <td>373554033.0</td>\n",
       "      <td>John Lasseter</td>\n",
       "      <td>1145.180110</td>\n",
       "    </tr>\n",
       "    <tr>\n",
       "      <th>1</th>\n",
       "      <td>[{'id': 12, 'name': 'Adventure'}, {'id': 14, '...</td>\n",
       "      <td>65000000</td>\n",
       "      <td>8844</td>\n",
       "      <td>Jumanji</td>\n",
       "      <td>17.015539</td>\n",
       "      <td>12/15/1995</td>\n",
       "      <td>262797249.0</td>\n",
       "      <td>Joe Johnston</td>\n",
       "      <td>304.303460</td>\n",
       "    </tr>\n",
       "    <tr>\n",
       "      <th>2</th>\n",
       "      <td>[{'id': 10749, 'name': 'Romance'}, {'id': 35, ...</td>\n",
       "      <td>0</td>\n",
       "      <td>15602</td>\n",
       "      <td>Grumpier Old Men</td>\n",
       "      <td>11.7129</td>\n",
       "      <td>12/22/1995</td>\n",
       "      <td>0.0</td>\n",
       "      <td>Howard Deutch</td>\n",
       "      <td>NaN</td>\n",
       "    </tr>\n",
       "    <tr>\n",
       "      <th>3</th>\n",
       "      <td>[{'id': 35, 'name': 'Comedy'}, {'id': 18, 'nam...</td>\n",
       "      <td>16000000</td>\n",
       "      <td>31357</td>\n",
       "      <td>Waiting to Exhale</td>\n",
       "      <td>3.859495</td>\n",
       "      <td>12/22/1995</td>\n",
       "      <td>81452156.0</td>\n",
       "      <td>Forest Whitaker</td>\n",
       "      <td>409.075975</td>\n",
       "    </tr>\n",
       "    <tr>\n",
       "      <th>4</th>\n",
       "      <td>[{'id': 35, 'name': 'Comedy'}]</td>\n",
       "      <td>0</td>\n",
       "      <td>11862</td>\n",
       "      <td>Father of the Bride Part II</td>\n",
       "      <td>8.387519</td>\n",
       "      <td>2/10/1995</td>\n",
       "      <td>76578911.0</td>\n",
       "      <td>Charles Shyer</td>\n",
       "      <td>inf</td>\n",
       "    </tr>\n",
       "  </tbody>\n",
       "</table>\n",
       "</div>"
      ],
      "text/plain": [
       "                                              genres    budget     id  \\\n",
       "0  [{'id': 16, 'name': 'Animation'}, {'id': 35, '...  30000000    862   \n",
       "1  [{'id': 12, 'name': 'Adventure'}, {'id': 14, '...  65000000   8844   \n",
       "2  [{'id': 10749, 'name': 'Romance'}, {'id': 35, ...         0  15602   \n",
       "3  [{'id': 35, 'name': 'Comedy'}, {'id': 18, 'nam...  16000000  31357   \n",
       "4                     [{'id': 35, 'name': 'Comedy'}]         0  11862   \n",
       "\n",
       "                         title popularity release_date      revenue  \\\n",
       "0                    Toy Story  21.946943   10/30/1995  373554033.0   \n",
       "1                      Jumanji  17.015539   12/15/1995  262797249.0   \n",
       "2             Grumpier Old Men    11.7129   12/22/1995          0.0   \n",
       "3            Waiting to Exhale   3.859495   12/22/1995   81452156.0   \n",
       "4  Father of the Bride Part II   8.387519    2/10/1995   76578911.0   \n",
       "\n",
       "          Director          ROI  \n",
       "0    John Lasseter  1145.180110  \n",
       "1     Joe Johnston   304.303460  \n",
       "2    Howard Deutch          NaN  \n",
       "3  Forest Whitaker   409.075975  \n",
       "4    Charles Shyer          inf  "
      ]
     },
     "execution_count": 29,
     "metadata": {},
     "output_type": "execute_result"
    }
   ],
   "source": [
    "# add ROI column\n",
    "movies_with_director['ROI'] = 100 * ((movies_with_director.revenue - movies_with_director.budget) \n",
    "                                     / movies_with_director.budget)\n",
    "movies_with_director.head()"
   ]
  },
  {
   "cell_type": "code",
   "execution_count": 18,
   "metadata": {},
   "outputs": [],
   "source": [
    "movies_with_director.to_csv('movies_with_director.csv', index=False)"
   ]
  },
  {
   "cell_type": "code",
   "execution_count": 30,
   "metadata": {},
   "outputs": [
    {
     "data": {
      "text/html": [
       "<div>\n",
       "<style scoped>\n",
       "    .dataframe tbody tr th:only-of-type {\n",
       "        vertical-align: middle;\n",
       "    }\n",
       "\n",
       "    .dataframe tbody tr th {\n",
       "        vertical-align: top;\n",
       "    }\n",
       "\n",
       "    .dataframe thead th {\n",
       "        text-align: right;\n",
       "    }\n",
       "</style>\n",
       "<table border=\"1\" class=\"dataframe\">\n",
       "  <thead>\n",
       "    <tr style=\"text-align: right;\">\n",
       "      <th></th>\n",
       "      <th>genres</th>\n",
       "      <th>movie_id</th>\n",
       "      <th>budget</th>\n",
       "      <th>title</th>\n",
       "      <th>popularity</th>\n",
       "      <th>release_date</th>\n",
       "      <th>revenue</th>\n",
       "      <th>ROI</th>\n",
       "      <th>Director</th>\n",
       "    </tr>\n",
       "  </thead>\n",
       "  <tbody>\n",
       "    <tr>\n",
       "      <th>0</th>\n",
       "      <td>Animation</td>\n",
       "      <td>862</td>\n",
       "      <td>30000000</td>\n",
       "      <td>Toy Story</td>\n",
       "      <td>21.946943</td>\n",
       "      <td>10/30/1995</td>\n",
       "      <td>373554033.0</td>\n",
       "      <td>1145.18011</td>\n",
       "      <td>John Lasseter</td>\n",
       "    </tr>\n",
       "    <tr>\n",
       "      <th>1</th>\n",
       "      <td>Comedy</td>\n",
       "      <td>862</td>\n",
       "      <td>30000000</td>\n",
       "      <td>Toy Story</td>\n",
       "      <td>21.946943</td>\n",
       "      <td>10/30/1995</td>\n",
       "      <td>373554033.0</td>\n",
       "      <td>1145.18011</td>\n",
       "      <td>John Lasseter</td>\n",
       "    </tr>\n",
       "    <tr>\n",
       "      <th>2</th>\n",
       "      <td>Family</td>\n",
       "      <td>862</td>\n",
       "      <td>30000000</td>\n",
       "      <td>Toy Story</td>\n",
       "      <td>21.946943</td>\n",
       "      <td>10/30/1995</td>\n",
       "      <td>373554033.0</td>\n",
       "      <td>1145.18011</td>\n",
       "      <td>John Lasseter</td>\n",
       "    </tr>\n",
       "    <tr>\n",
       "      <th>3</th>\n",
       "      <td>Adventure</td>\n",
       "      <td>8844</td>\n",
       "      <td>65000000</td>\n",
       "      <td>Jumanji</td>\n",
       "      <td>17.015539</td>\n",
       "      <td>12/15/1995</td>\n",
       "      <td>262797249.0</td>\n",
       "      <td>304.30346</td>\n",
       "      <td>Joe Johnston</td>\n",
       "    </tr>\n",
       "    <tr>\n",
       "      <th>4</th>\n",
       "      <td>Fantasy</td>\n",
       "      <td>8844</td>\n",
       "      <td>65000000</td>\n",
       "      <td>Jumanji</td>\n",
       "      <td>17.015539</td>\n",
       "      <td>12/15/1995</td>\n",
       "      <td>262797249.0</td>\n",
       "      <td>304.30346</td>\n",
       "      <td>Joe Johnston</td>\n",
       "    </tr>\n",
       "  </tbody>\n",
       "</table>\n",
       "</div>"
      ],
      "text/plain": [
       "      genres  movie_id    budget      title popularity release_date  \\\n",
       "0  Animation       862  30000000  Toy Story  21.946943   10/30/1995   \n",
       "1     Comedy       862  30000000  Toy Story  21.946943   10/30/1995   \n",
       "2     Family       862  30000000  Toy Story  21.946943   10/30/1995   \n",
       "3  Adventure      8844  65000000    Jumanji  17.015539   12/15/1995   \n",
       "4    Fantasy      8844  65000000    Jumanji  17.015539   12/15/1995   \n",
       "\n",
       "       revenue         ROI       Director  \n",
       "0  373554033.0  1145.18011  John Lasseter  \n",
       "1  373554033.0  1145.18011  John Lasseter  \n",
       "2  373554033.0  1145.18011  John Lasseter  \n",
       "3  262797249.0   304.30346   Joe Johnston  \n",
       "4  262797249.0   304.30346   Joe Johnston  "
      ]
     },
     "execution_count": 30,
     "metadata": {},
     "output_type": "execute_result"
    }
   ],
   "source": [
    "budget = []\n",
    "genres = []\n",
    "movie_id = []\n",
    "title = []\n",
    "popularity = []\n",
    "release_date = []\n",
    "revenue = []\n",
    "ROI = []\n",
    "director = []\n",
    "\n",
    "for idx, rows in movies_with_director.iterrows():\n",
    "    genres_dict = eval(rows['genres'])\n",
    "    for i in range(len(genres_dict)):\n",
    "        budget.append(rows.budget)\n",
    "        movie_id.append(rows.id)\n",
    "        title.append(rows.title)\n",
    "        popularity.append(rows.popularity)\n",
    "        release_date.append(rows.release_date)\n",
    "        revenue.append(rows.revenue)\n",
    "        ROI.append(rows.ROI)\n",
    "        director.append(rows.Director)\n",
    "        try:\n",
    "            genres.append(genres_dict[i]['name'])\n",
    "        except:\n",
    "            genres.append(\"n/a\")\n",
    "            break\n",
    "    \n",
    "movies_final = pd.DataFrame({\"genres\": genres, \"movie_id\": movie_id, \"budget\": budget, \n",
    "                                     \"title\": title, \"popularity\": popularity, \n",
    "                                     \"release_date\": release_date, \"revenue\":revenue, \n",
    "                                     \"ROI\":ROI, \"Director\": director})\n",
    "movies_final.head()"
   ]
  },
  {
   "cell_type": "code",
   "execution_count": 31,
   "metadata": {},
   "outputs": [
    {
     "data": {
      "text/plain": [
       "genres          90340\n",
       "movie_id        90340\n",
       "budget          90340\n",
       "title           90331\n",
       "popularity      90331\n",
       "release_date    90305\n",
       "revenue         90331\n",
       "ROI             26379\n",
       "Director        90340\n",
       "dtype: int64"
      ]
     },
     "execution_count": 31,
     "metadata": {},
     "output_type": "execute_result"
    }
   ],
   "source": [
    "movies_final.count()"
   ]
  },
  {
   "cell_type": "code",
   "execution_count": 32,
   "metadata": {},
   "outputs": [],
   "source": [
    "movies_final.to_csv('movies_final_.csv', index=False)"
   ]
  },
  {
   "cell_type": "code",
   "execution_count": null,
   "metadata": {},
   "outputs": [],
   "source": []
  }
 ],
 "metadata": {
  "kernelspec": {
   "display_name": "Python 3",
   "language": "python",
   "name": "python3"
  },
  "language_info": {
   "codemirror_mode": {
    "name": "ipython",
    "version": 3
   },
   "file_extension": ".py",
   "mimetype": "text/x-python",
   "name": "python",
   "nbconvert_exporter": "python",
   "pygments_lexer": "ipython3",
   "version": "3.7.0"
  }
 },
 "nbformat": 4,
 "nbformat_minor": 2
}
